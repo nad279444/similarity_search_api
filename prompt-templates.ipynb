{
 "cells": [
  {
   "cell_type": "code",
   "execution_count": 4,
   "id": "cd75b941",
   "metadata": {},
   "outputs": [],
   "source": [
    "from langchain_ollama import ChatOllama\n",
    "from langchain_core.prompts import ChatPromptTemplate\n",
    "from langchain_core.output_parsers import StrOutputParser"
   ]
  },
  {
   "cell_type": "code",
   "execution_count": 5,
   "id": "5f35ed37",
   "metadata": {},
   "outputs": [],
   "source": [
    "LLM_CONFIG = {\n",
    "    \"model\": \"llama3\",   # use the model you have pulled\n",
    "    \"temperature\": 0,    # optional for determinism\n",
    "}"
   ]
  },
  {
   "cell_type": "code",
   "execution_count": 6,
   "id": "ca28d7f3",
   "metadata": {},
   "outputs": [],
   "source": [
    "model = ChatOllama(**LLM_CONFIG)  # LLM model\n",
    "\n",
    "parser = StrOutputParser()"
   ]
  },
  {
   "cell_type": "code",
   "execution_count": 7,
   "id": "d57a4bc1",
   "metadata": {},
   "outputs": [],
   "source": [
    "system_prompt = \"Translate the following into {language}\"\n",
    "\n",
    "prompt_template = ChatPromptTemplate.from_messages(\n",
    "    [\n",
    "        (\"system\", system_prompt),\n",
    "        (\"user\", \"{input_text}\")\n",
    "    ]\n",
    ")"
   ]
  },
  {
   "cell_type": "code",
   "execution_count": 8,
   "id": "ead1efb7",
   "metadata": {},
   "outputs": [],
   "source": [
    "chain = prompt_template | model | parser"
   ]
  },
  {
   "cell_type": "code",
   "execution_count": 9,
   "id": "3c79c6f8",
   "metadata": {},
   "outputs": [
    {
     "name": "stdout",
     "output_type": "stream",
     "text": [
      "¿Qué te gusta comer?\n",
      "\n",
      "(Note: This is a literal translation, but in informal settings, you can also use \"¿Qué comes?\" which is more common and conversational.)\n",
      "\"What do you like to eat?\"\n",
      "What you like to eat?\n",
      "\n",
      "In Italian:\n",
      "\n",
      "Cosa ti piace mangiare?\n",
      "What do you like to eat?\n",
      "\n",
      "In Italian:\n",
      "\n",
      "Cos'è che ti piace mangiare?\n"
     ]
    }
   ],
   "source": [
    "# Test translations\n",
    "print(chain.invoke({\"language\": \"Spanish\", \"input_text\": \"What do you like to eat?\"}))\n",
    "print(chain.invoke({\"language\": \"English\", \"input_text\": \"¿Qué te gusta comer?\"}))\n",
    "print(chain.invoke({\"language\": \"Italian\", \"input_text\": \"¿Qué te gusta comer?\"}))\n",
    "print(chain.invoke({\"language\": \"Italian\", \"input_text\": \"Cosa ti piace mangiare?\"}))"
   ]
  }
 ],
 "metadata": {
  "kernelspec": {
   "display_name": "3.12.11",
   "language": "python",
   "name": "python3"
  },
  "language_info": {
   "codemirror_mode": {
    "name": "ipython",
    "version": 3
   },
   "file_extension": ".py",
   "mimetype": "text/x-python",
   "name": "python",
   "nbconvert_exporter": "python",
   "pygments_lexer": "ipython3",
   "version": "3.12.11"
  }
 },
 "nbformat": 4,
 "nbformat_minor": 5
}
