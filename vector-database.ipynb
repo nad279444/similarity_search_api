{
 "cells": [
  {
   "cell_type": "code",
   "execution_count": 79,
   "id": "5c9817d4",
   "metadata": {},
   "outputs": [],
   "source": [
    "from langchain_ollama import OllamaEmbeddings\n",
    "from upstash_vector import Index, Vector\n",
    "from decouple import config\n",
    "from sklearn.random_projection import SparseRandomProjection\n",
    "import numpy as np\n",
    "import ollama\n"
   ]
  },
  {
   "cell_type": "code",
   "execution_count": 80,
   "id": "ef76a463",
   "metadata": {},
   "outputs": [],
   "source": [
    "from dotenv import load_dotenv\n",
    "import os\n",
    "\n",
    "# Load environment variables from .env file\n",
    "load_dotenv()\n",
    "\n",
    "# Now you can access your environment variables\n",
    "UPSTASH_VECTOR_REST_URL = os.getenv(\"UPSTASH_VECTOR_REST_URL\")\n",
    "UPSTASH_VECTOR_REST_TOKEN = os.getenv(\"UPSTASH_VECTOR_REST_TOKEN\")"
   ]
  },
  {
   "cell_type": "code",
   "execution_count": 81,
   "id": "e93f1798",
   "metadata": {},
   "outputs": [],
   "source": [
    "# Use Ollama embeddings model (outputs 4096 dims for \"nomic-embed-text\")\n",
    "embeddings_model = OllamaEmbeddings(model=\"nomic-embed-text\")\n",
    "\n",
    "documents = [\n",
    "    \"The cat jumped over the dog\",\n",
    "    \"The cow jumped over the moon\",\n",
    "    \"The turkey ran in circles\",\n",
    "]"
   ]
  },
  {
   "cell_type": "code",
   "execution_count": 82,
   "id": "b65f0c6d",
   "metadata": {},
   "outputs": [],
   "source": [
    "def get_embedding(text, model=\"llama3\"):\n",
    "    response = ollama.embeddings(model=model, prompt=text)\n",
    "    return response[\"embedding\"]\n",
    "\n"
   ]
  },
  {
   "cell_type": "code",
   "execution_count": 83,
   "id": "e3b6bdc5",
   "metadata": {},
   "outputs": [
    {
     "name": "stdout",
     "output_type": "stream",
     "text": [
      "Original embedding shape: (3, 4096)\n",
      "Reduced embedding shape: (3, 1536)\n"
     ]
    }
   ],
   "source": [
    "# Get Ollama embeddings\n",
    "embeddings = [get_embedding(doc) for doc in documents]\n",
    "embeddings = np.array(embeddings)\n",
    "print(\"Original embedding shape:\", embeddings.shape)\n",
    "\n",
    "# Create and fit the dimension reduction model\n",
    "transformer = SparseRandomProjection(n_components=1536, random_state=42)\n",
    "reduced_embeddings = transformer.fit_transform(embeddings)\n",
    "print(\"Reduced embedding shape:\", reduced_embeddings.shape)"
   ]
  },
  {
   "cell_type": "code",
   "execution_count": 84,
   "id": "21fb7b94",
   "metadata": {},
   "outputs": [],
   "source": [
    "dataset = {}\n",
    "for i, embedding in enumerate(reduced_embeddings):\n",
    "    dataset[i] = embedding"
   ]
  },
  {
   "cell_type": "code",
   "execution_count": 85,
   "id": "00cdc35b",
   "metadata": {},
   "outputs": [],
   "source": [
    "index = Index(url=UPSTASH_VECTOR_REST_URL, token=UPSTASH_VECTOR_REST_TOKEN)"
   ]
  },
  {
   "cell_type": "code",
   "execution_count": 86,
   "id": "5f9dd2b7",
   "metadata": {},
   "outputs": [
    {
     "name": "stdout",
     "output_type": "stream",
     "text": [
      "Inserted PCA-reduced vectors into Upstash!\n"
     ]
    }
   ],
   "source": [
    "vectors = []\n",
    "for i, embedding in enumerate(reduced_embeddings):\n",
    "    vectors.append(Vector(id=str(i), vector=embedding.tolist()))\n",
    "\n",
    "# Step 4: Push to Upstash index\n",
    "index.upsert(vectors)\n",
    "print(\"Inserted PCA-reduced vectors into Upstash!\")"
   ]
  },
  {
   "cell_type": "code",
   "execution_count": 87,
   "id": "da5dc8e8",
   "metadata": {},
   "outputs": [],
   "source": [
    "# Create a new embedding and reduce its dimensions\n",
    "new_embedding = get_embedding(\"The moose sat by the dog\")\n",
    "reduced_new_embedding = transformer.transform(np.array(new_embedding).reshape(1, -1))\n",
    "\n",
    "# Add the reduced embedding to the dataset\n",
    "dataset[3] = reduced_new_embedding.flatten()"
   ]
  },
  {
   "cell_type": "code",
   "execution_count": 88,
   "id": "6fceb54a",
   "metadata": {},
   "outputs": [
    {
     "name": "stdout",
     "output_type": "stream",
     "text": [
      "Upserted new vector for ID 3\n"
     ]
    }
   ],
   "source": [
    "index.upsert(vectors=[Vector(id=\"3\", vector=dataset[3].tolist())])\n",
    "print(\"Upserted new vector for ID 3\")"
   ]
  },
  {
   "cell_type": "code",
   "execution_count": 89,
   "id": "80f8f594",
   "metadata": {},
   "outputs": [],
   "source": [
    "query_str = \"The moose sat by the dog\"\n",
    "query_embedding = get_embedding(query_str)\n",
    "\n",
    "# Reduce the query embedding's dimensions to match the index\n",
    "query_embedding_reduced = transformer.transform(np.array(query_embedding).reshape(1, -1))"
   ]
  },
  {
   "cell_type": "code",
   "execution_count": 90,
   "id": "da950a31",
   "metadata": {},
   "outputs": [
    {
     "name": "stdout",
     "output_type": "stream",
     "text": [
      "3 100.0\n",
      "0 77.01586499999999\n",
      "2 66.43624\n"
     ]
    }
   ],
   "source": [
    "results = index.query(\n",
    "  vector=query_embedding_reduced.flatten().tolist(),\n",
    "  top_k=3,\n",
    "  include_vectors=True,\n",
    "  include_metadata=True\n",
    ")\n",
    "\n",
    "for result in results:\n",
    "    print(result.id, result.score * 100)"
   ]
  }
 ],
 "metadata": {
  "kernelspec": {
   "display_name": "3.12.11",
   "language": "python",
   "name": "python3"
  },
  "language_info": {
   "codemirror_mode": {
    "name": "ipython",
    "version": 3
   },
   "file_extension": ".py",
   "mimetype": "text/x-python",
   "name": "python",
   "nbconvert_exporter": "python",
   "pygments_lexer": "ipython3",
   "version": "3.12.11"
  }
 },
 "nbformat": 4,
 "nbformat_minor": 5
}
