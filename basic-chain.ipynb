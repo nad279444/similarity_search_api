{
 "cells": [
  {
   "cell_type": "code",
   "execution_count": 3,
   "id": "a8d547e4",
   "metadata": {},
   "outputs": [],
   "source": [
    "from langchain_community.chat_models import ChatOllama\n",
    "from langchain_core.messages import HumanMessage, SystemMessage\n",
    "from langchain_core.output_parsers import StrOutputParser"
   ]
  },
  {
   "cell_type": "code",
   "execution_count": 4,
   "id": "b15ee09f",
   "metadata": {},
   "outputs": [],
   "source": [
    "LLM_CONFIG = {\n",
    "    \"model\": \"llama3\",   # already pulled into Ollama\n",
    "    \"temperature\": 0,    # optional\n",
    "}\n"
   ]
  },
  {
   "cell_type": "code",
   "execution_count": 5,
   "id": "93385052",
   "metadata": {},
   "outputs": [
    {
     "name": "stderr",
     "output_type": "stream",
     "text": [
      "/tmp/ipykernel_11856/3380570003.py:1: LangChainDeprecationWarning: The class `ChatOllama` was deprecated in LangChain 0.3.1 and will be removed in 1.0.0. An updated version of the class exists in the :class:`~langchain-ollama package and should be used instead. To use it run `pip install -U :class:`~langchain-ollama` and import as `from :class:`~langchain_ollama import ChatOllama``.\n",
      "  model = ChatOllama(**LLM_CONFIG)\n"
     ]
    }
   ],
   "source": [
    "model = ChatOllama(**LLM_CONFIG)\n",
    "\n",
    "# Messages\n",
    "messages = [\n",
    "    SystemMessage(content=\"Translate from English to Spanish\"),\n",
    "    HumanMessage(content=\"hi!\"),\n",
    "]\n"
   ]
  },
  {
   "cell_type": "code",
   "execution_count": 6,
   "id": "c074cc74",
   "metadata": {},
   "outputs": [
    {
     "name": "stdout",
     "output_type": "stream",
     "text": [
      "content='¡hola!' additional_kwargs={} response_metadata={'model': 'llama3', 'created_at': '2025-09-03T14:14:22.726069916Z', 'message': {'role': 'assistant', 'content': ''}, 'done_reason': 'stop', 'done': True, 'total_duration': 29159345323, 'load_duration': 19092974071, 'prompt_eval_count': 22, 'prompt_eval_duration': 7161046762, 'eval_count': 5, 'eval_duration': 2903120480} id='run--cdd909fd-e08c-4b85-80a1-0c38d5092bb3-0'\n"
     ]
    }
   ],
   "source": [
    "result = model.invoke(messages)\n",
    "print(result)\n"
   ]
  },
  {
   "cell_type": "code",
   "execution_count": 7,
   "id": "e0e848f7",
   "metadata": {},
   "outputs": [
    {
     "name": "stdout",
     "output_type": "stream",
     "text": [
      "¡hola!\n"
     ]
    }
   ],
   "source": [
    "# Parse to plain string\n",
    "parser = StrOutputParser()\n",
    "print(parser.invoke(result))"
   ]
  },
  {
   "cell_type": "code",
   "execution_count": 8,
   "id": "27f7d38c",
   "metadata": {},
   "outputs": [
    {
     "name": "stdout",
     "output_type": "stream",
     "text": [
      "¡hola!\n"
     ]
    }
   ],
   "source": [
    "\n",
    "# Chain (model + parser)\n",
    "chain = model | parser\n",
    "print(chain.invoke(messages))"
   ]
  }
 ],
 "metadata": {
  "kernelspec": {
   "display_name": "3.12.11",
   "language": "python",
   "name": "python3"
  },
  "language_info": {
   "codemirror_mode": {
    "name": "ipython",
    "version": 3
   },
   "file_extension": ".py",
   "mimetype": "text/x-python",
   "name": "python",
   "nbconvert_exporter": "python",
   "pygments_lexer": "ipython3",
   "version": "3.12.11"
  }
 },
 "nbformat": 4,
 "nbformat_minor": 5
}
