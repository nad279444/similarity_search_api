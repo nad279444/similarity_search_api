{
 "cells": [
  {
   "cell_type": "code",
   "execution_count": 1,
   "id": "2faf52a3",
   "metadata": {},
   "outputs": [],
   "source": [
    "import ollama\n",
    "import numpy as np"
   ]
  },
  {
   "cell_type": "code",
   "execution_count": 2,
   "id": "0a414413",
   "metadata": {},
   "outputs": [],
   "source": [
    "def get_embedding(text, model=\"llama3\"):\n",
    "    response = ollama.embeddings(model=model, prompt=text)\n",
    "    return response[\"embedding\"]\n"
   ]
  },
  {
   "cell_type": "code",
   "execution_count": 3,
   "id": "9eac3b3f",
   "metadata": {},
   "outputs": [],
   "source": [
    "documents = [\n",
    "    \"The cat jumped over the dog\",\n",
    "    \"The cow jumped over the moon\",\n",
    "    \"The turkey ran in circles\",\n",
    "]\n",
    "\n",
    "embeddings = [get_embedding(doc) for doc in documents]\n"
   ]
  },
  {
   "cell_type": "code",
   "execution_count": 4,
   "id": "d6cdbf56",
   "metadata": {},
   "outputs": [
    {
     "name": "stdout",
     "output_type": "stream",
     "text": [
      "4096\n",
      "[-2.2180778980255127, 1.0529645681381226, 1.1047967672348022, -2.0559418201446533, -2.8292582035064697, 0.3583463728427887, -2.9368104934692383, 1.6765278577804565, -4.249149799346924, 0.8415858745574951]\n"
     ]
    }
   ],
   "source": [
    "\n",
    "print(len(embeddings[0]))  # dimension size\n",
    "print(embeddings[0][:10])  # first 10 values"
   ]
  },
  {
   "cell_type": "code",
   "execution_count": 5,
   "id": "580ddb7d",
   "metadata": {},
   "outputs": [
    {
     "data": {
      "text/plain": [
       "(4096,)"
      ]
     },
     "execution_count": 5,
     "metadata": {},
     "output_type": "execute_result"
    }
   ],
   "source": [
    "np.array(embeddings[0]).shape"
   ]
  },
  {
   "cell_type": "code",
   "execution_count": 6,
   "id": "71e5b4f9",
   "metadata": {},
   "outputs": [],
   "source": [
    "def calculate_cosine_metrics(v1, v2):\n",
    "    dot_product = np.dot(v1, v2)\n",
    "    magnitude1 = np.linalg.norm(v1)\n",
    "    magnitude2 = np.linalg.norm(v2)\n",
    "    cosine_similarity = dot_product / (magnitude1 * magnitude2)\n",
    "    cosine_distance = 1 - cosine_similarity\n",
    "    return int(cosine_similarity * 100), int(cosine_distance * 100)"
   ]
  },
  {
   "cell_type": "code",
   "execution_count": 7,
   "id": "d2d593d1",
   "metadata": {},
   "outputs": [
    {
     "name": "stdout",
     "output_type": "stream",
     "text": [
      "(100, 0)\n",
      "(70, 29)\n",
      "(54, 45)\n"
     ]
    }
   ],
   "source": [
    "print(calculate_cosine_metrics(embeddings[0], embeddings[0]))\n",
    "print(calculate_cosine_metrics(embeddings[0], embeddings[1]))\n",
    "print(calculate_cosine_metrics(embeddings[0], embeddings[2]))"
   ]
  },
  {
   "cell_type": "code",
   "execution_count": 8,
   "id": "37c53079",
   "metadata": {},
   "outputs": [
    {
     "name": "stdout",
     "output_type": "stream",
     "text": [
      "(37, 62)\n",
      "(28, 71)\n",
      "(32, 67)\n"
     ]
    }
   ],
   "source": [
    "query_str = \"The moose sat by the turkey\"\n",
    "query_embedding = get_embedding(query_str)\n",
    "\n",
    "for embedding in embeddings:\n",
    "    print(calculate_cosine_metrics(query_embedding, embedding))"
   ]
  },
  {
   "cell_type": "code",
   "execution_count": 10,
   "id": "cb6cffe9",
   "metadata": {},
   "outputs": [],
   "source": [
    "phrase_1_embedding = get_embedding(\"The dog ate my homework and then burped it up\")\n",
    "phrase_2_embedding = get_embedding(\"The green dog ate my homework and then burped it up\")"
   ]
  },
  {
   "cell_type": "code",
   "execution_count": 11,
   "id": "57c9d330",
   "metadata": {},
   "outputs": [
    {
     "data": {
      "text/plain": [
       "(98, 1)"
      ]
     },
     "execution_count": 11,
     "metadata": {},
     "output_type": "execute_result"
    }
   ],
   "source": [
    "calculate_cosine_metrics(phrase_1_embedding, phrase_2_embedding)"
   ]
  }
 ],
 "metadata": {
  "kernelspec": {
   "display_name": "3.12.11",
   "language": "python",
   "name": "python3"
  },
  "language_info": {
   "codemirror_mode": {
    "name": "ipython",
    "version": 3
   },
   "file_extension": ".py",
   "mimetype": "text/x-python",
   "name": "python",
   "nbconvert_exporter": "python",
   "pygments_lexer": "ipython3",
   "version": "3.12.11"
  }
 },
 "nbformat": 4,
 "nbformat_minor": 5
}
